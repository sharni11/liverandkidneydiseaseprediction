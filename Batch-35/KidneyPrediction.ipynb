{
 "cells": [
  {
   "cell_type": "code",
   "execution_count": 1,
   "id": "58be0cfb",
   "metadata": {},
   "outputs": [],
   "source": [
    "import pandas as pd\n",
    "import numpy as np\n",
    "import logging\n",
    "import sklearn\n",
    "import seaborn as sns\n",
    "import matplotlib.pyplot as plt"
   ]
  },
  {
   "cell_type": "code",
   "execution_count": 2,
   "id": "5a2d68ce",
   "metadata": {},
   "outputs": [],
   "source": [
    "from sklearn.model_selection import train_test_split\n",
    "from sklearn.impute import KNNImputer\n",
    "from sklearn import preprocessing\n",
    "from sklearn.preprocessing import StandardScaler"
   ]
  },
  {
   "cell_type": "code",
   "execution_count": 3,
   "id": "71813d00",
   "metadata": {},
   "outputs": [
    {
     "name": "stdout",
     "output_type": "stream",
     "text": [
      "Shape of dataset: (400, 25)\n",
      "Total number of records in dataset = 400\n",
      "Total number of attributes in dataset = 25\n",
      "\n",
      "There is no missing values in the dataset.\n",
      "\n",
      "Are there missing values in Target Class? False\n",
      "\n",
      "Are there missing values in the Features? \n",
      "age       True\n",
      "bp        True\n",
      "sg        True\n",
      "al        True\n",
      "su        True\n",
      "rbc      False\n",
      "pc       False\n",
      "pcc      False\n",
      "ba       False\n",
      "bgr       True\n",
      "bu        True\n",
      "sc        True\n",
      "sod       True\n",
      "pot       True\n",
      "hemo      True\n",
      "pcv      False\n",
      "wbcc     False\n",
      "rbcc     False\n",
      "htn      False\n",
      "dm       False\n",
      "cad      False\n",
      "appet    False\n",
      "pe       False\n",
      "ane      False\n",
      "dtype: bool\n",
      "\n",
      "Now, Are there any missing values in Features? age      False\n",
      "bp       False\n",
      "sg       False\n",
      "al       False\n",
      "su       False\n",
      "rbc      False\n",
      "pc       False\n",
      "pcc      False\n",
      "ba       False\n",
      "bgr      False\n",
      "bu       False\n",
      "sc       False\n",
      "sod      False\n",
      "pot      False\n",
      "hemo     False\n",
      "pcv      False\n",
      "wbcc     False\n",
      "rbcc     False\n",
      "htn      False\n",
      "dm       False\n",
      "cad      False\n",
      "appet    False\n",
      "pe       False\n",
      "ane      False\n",
      "dtype: bool\n",
      "\n",
      "After Pre-processing:\n",
      "Size of train dataset: 280\n",
      "Size of test dataset: 120\n"
     ]
    }
   ],
   "source": [
    "def null_values_check(df): \n",
    "\n",
    "    try:\n",
    "        \n",
    "        if(df.isnull().values.any() == True):\n",
    "            \n",
    "            print('Number of null records within each column:\\n' + str(df.isnull().sum()))\n",
    "        else:\n",
    "            print('There is no missing values in the dataset.')\n",
    "    \n",
    "    except Exception as e:\n",
    "        logging.error(e)\n",
    "\n",
    "\n",
    "dataset_name = 'chronic_kidney_disease.csv'\n",
    "\n",
    "\n",
    "try:\n",
    "    \n",
    "    chronic_kidney_disease_dataframe = pd.read_csv(dataset_name)\n",
    "    \n",
    "    \n",
    "    print('Shape of dataset: ' + str(chronic_kidney_disease_dataframe.shape))\n",
    "    print('Total number of records in dataset = ' + str(chronic_kidney_disease_dataframe.shape[0]))\n",
    "    print('Total number of attributes in dataset = ' + str(chronic_kidney_disease_dataframe.shape[1]))\n",
    "    print('')\n",
    "    \n",
    "    null_values_check(chronic_kidney_disease_dataframe)\n",
    "   \n",
    "    chronic_kidney_disease_dataframe = chronic_kidney_disease_dataframe.replace('?', np.nan)\n",
    "    \n",
    "   \n",
    "    target_class = chronic_kidney_disease_dataframe['class']\n",
    "    print('\\nAre there missing values in Target Class? ' + str(target_class.isna().any()))\n",
    "    feature_classes = chronic_kidney_disease_dataframe.iloc[:, 0:24]\n",
    "    print('\\nAre there missing values in the Features? \\n' + str(feature_classes.isna().any()))\n",
    "    \n",
    "    \n",
    "    knn_missing_values_imputer = KNNImputer(n_neighbors=5)\n",
    "    feature_classes = pd.DataFrame(knn_missing_values_imputer.fit_transform(feature_classes),\n",
    "                                   columns = feature_classes.columns)\n",
    "    print('\\nNow, Are there any missing values in Features? ' + str(feature_classes.isna().any()))\n",
    "    \n",
    "    \n",
    "    \n",
    "    standard_feature_scaler = StandardScaler()\n",
    "    feature_classes = standard_feature_scaler.fit_transform(feature_classes)\n",
    "    feature_classes = pd.DataFrame(feature_classes, columns=['age', 'bp', 'sg', 'al', 'su', 'rbc', 'pc', \n",
    "                                                             'pcc', 'ba', 'bgr', 'bu', 'sc', 'sod', 'pot', \n",
    "                                                             'hemo', 'pcv', 'wbcc', 'rbcc', 'htn', 'dm', \n",
    "                                                             'cad', 'appet', 'pe', 'ane'])\n",
    "    \n",
    "   \n",
    "    target_label_encoder = preprocessing.LabelEncoder()\n",
    "    target_class = target_label_encoder.fit_transform(target_class)\n",
    "    target_class1 = pd.DataFrame(target_class, columns=['class'])\n",
    "    \n",
    "   \n",
    "    train_features, test_features, train_target, test_target = train_test_split(feature_classes, target_class, \n",
    "                                                                                train_size = 0.7, test_size = 0.3)\n",
    "    print('\\nAfter Pre-processing:')\n",
    "    print('Size of train dataset: ' + str(train_target.shape[0]))\n",
    "    print('Size of test dataset: ' + str(test_target.shape[0]))\n",
    "                                                      \n",
    "except FileNotFoundError as e:\n",
    "    logging.error(e)"
   ]
  },
  {
   "cell_type": "code",
   "execution_count": 5,
   "id": "60e688eb",
   "metadata": {},
   "outputs": [
    {
     "name": "stdout",
     "output_type": "stream",
     "text": [
      "The best parameters are:\n",
      " {'criterion': 'gini', 'max_features': 'auto', 'min_samples_split': 4, 'n_estimators': 10}\n",
      "\n",
      "The best model after gridsearch is:\n",
      " RandomForestClassifier(min_samples_split=4, n_estimators=10, random_state=0)\n",
      "\n",
      "Precision: 0.8837209302325582\n",
      "Accuracy: 0.9583333333333334\n",
      "Recall: 1.0\n",
      "F1-score: 0.9382716049382717\n",
      "\n",
      "Classification Report:\n",
      "              precision    recall  f1-score   support\n",
      "\n",
      "           0       1.00      0.94      0.97        82\n",
      "           1       0.88      1.00      0.94        38\n",
      "\n",
      "    accuracy                           0.96       120\n",
      "   macro avg       0.94      0.97      0.95       120\n",
      "weighted avg       0.96      0.96      0.96       120\n",
      "\n",
      "\n",
      "Confusion Matrix: \n",
      "[[77  5]\n",
      " [ 0 38]]\n"
     ]
    },
    {
     "data": {
      "image/png": "[encoded data removed]",
      "text/plain": [
       "<Figure size 432x288 with 2 Axes>"
      ]
     },
     "metadata": {
      "needs_background": "light"
     },
     "output_type": "display_data"
    }
   ],
   "source": [
    "import sklearn.metrics as metrics\n",
    "from sklearn.ensemble import RandomForestClassifier\n",
    "from sklearn.model_selection import GridSearchCV\n",
    "\n",
    "#initialise the random forest Model\n",
    "random_forest_model = RandomForestClassifier(random_state = 0)\n",
    "\n",
    "#defining the random forest parameters for grid search\n",
    "rf_parameters_grid = {'n_estimators': [10, 30, 40, 50, 60, 70, 80, 90, 100], \n",
    "                      'criterion': ['gini', 'entropy'],\n",
    "                      'min_samples_split': [1.0, 2, 3, 4, 5], \n",
    "                      'max_features': ['auto', 'sqrt', 'log2']}\n",
    "\n",
    "#apply exhaustice gridsearch to find the optimal solution\n",
    "rf_grid_search = GridSearchCV(random_forest_model, rf_parameters_grid, scoring = 'accuracy')\n",
    "#fit the data to the grid\n",
    "rf_grid_search.fit(train_features, train_target)\n",
    "\n",
    "#print which are best parameters after gridsearch\n",
    "print('The best parameters are:\\n ' +str(rf_grid_search.best_params_))\n",
    "\n",
    "#print the best model after gridsearch\n",
    "print('\\nThe best model after gridsearch is:\\n ' + str(rf_grid_search.best_estimator_))\n",
    "\n",
    "#Random Forest predictions on test features\n",
    "rf_prediction = rf_grid_search.predict(test_features)\n",
    "\n",
    "#display KNN classification Metrices for Decision Tree\n",
    "print('\\nPrecision: ' + str(metrics.precision_score(test_target, rf_prediction)))\n",
    "print('Accuracy: ' + str(metrics.accuracy_score(test_target, rf_prediction)))\n",
    "print('Recall: ' + str(metrics.recall_score(test_target, rf_prediction)))\n",
    "print('F1-score: ' + str(metrics.f1_score(test_target, rf_prediction)))\n",
    "\n",
    "#display classification report for Decision Tree\n",
    "print('\\nClassification Report:\\n' + str(metrics.classification_report(test_target, rf_prediction)))\n",
    "\n",
    "#display confusion matrix\n",
    "print('\\nConfusion Matrix: \\n' + str(metrics.confusion_matrix(test_target, rf_prediction)))\n",
    "#plot confusion matrix\n",
    "sns.heatmap(metrics.confusion_matrix(test_target, rf_prediction), annot = True)\n",
    "plt.show()"
   ]
  },
  {
   "cell_type": "code",
   "execution_count": 1,
   "id": "9f3216af",
   "metadata": {},
   "outputs": [
    {
     "ename": "NameError",
     "evalue": "name 'joblib' is not defined",
     "output_type": "error",
     "traceback": [
      "\u001b[1;31m---------------------------------------------------------------------------\u001b[0m",
      "\u001b[1;31mNameError\u001b[0m                                 Traceback (most recent call last)",
      "\u001b[1;32m~\\AppData\\Local\\Temp/ipykernel_11208/497492535.py\u001b[0m in \u001b[0;36m<module>\u001b[1;34m\u001b[0m\n\u001b[1;32m----> 1\u001b[1;33m \u001b[0mjoblib\u001b[0m\u001b[1;33m.\u001b[0m\u001b[0mdump\u001b[0m\u001b[1;33m(\u001b[0m\u001b[0mrandom_forest_model\u001b[0m\u001b[1;33m,\u001b[0m\u001b[1;34m\"kidneymodel\"\u001b[0m\u001b[1;33m)\u001b[0m\u001b[1;33m\u001b[0m\u001b[1;33m\u001b[0m\u001b[0m\n\u001b[0m",
      "\u001b[1;31mNameError\u001b[0m: name 'joblib' is not defined"
     ]
    }
   ],
   "source": [
    "joblib.dump(random_forest_model,\"kidneymodel\")"
   ]
  },
  {
   "cell_type": "code",
   "execution_count": 2,
   "id": "18a83838",
   "metadata": {},
   "outputs": [],
   "source": [
    "import joblib"
   ]
  },
  {
   "cell_type": "code",
   "execution_count": 3,
   "id": "fea46ced",
   "metadata": {},
   "outputs": [
    {
     "ename": "NameError",
     "evalue": "name 'random_forest_model' is not defined",
     "output_type": "error",
     "traceback": [
      "\u001b[1;31m---------------------------------------------------------------------------\u001b[0m",
      "\u001b[1;31mNameError\u001b[0m                                 Traceback (most recent call last)",
      "\u001b[1;32m~\\AppData\\Local\\Temp/ipykernel_11208/497492535.py\u001b[0m in \u001b[0;36m<module>\u001b[1;34m\u001b[0m\n\u001b[1;32m----> 1\u001b[1;33m \u001b[0mjoblib\u001b[0m\u001b[1;33m.\u001b[0m\u001b[0mdump\u001b[0m\u001b[1;33m(\u001b[0m\u001b[0mrandom_forest_model\u001b[0m\u001b[1;33m,\u001b[0m\u001b[1;34m\"kidneymodel\"\u001b[0m\u001b[1;33m)\u001b[0m\u001b[1;33m\u001b[0m\u001b[1;33m\u001b[0m\u001b[0m\n\u001b[0m",
      "\u001b[1;31mNameError\u001b[0m: name 'random_forest_model' is not defined"
     ]
    }
   ],
   "source": [
    "joblib.dump(random_forest_model,\"kidneymodel\")"
   ]
  },
  {
   "cell_type": "code",
   "execution_count": null,
   "id": "b72bd273",
   "metadata": {},
   "outputs": [],
   "source": []
  }
 ],
 "metadata": {
  "kernelspec": {
   "display_name": "Python 3 (ipykernel)",
   "language": "python",
   "name": "python3"
  },
  "language_info": {
   "codemirror_mode": {
    "name": "ipython",
    "version": 3
   },
   "file_extension": ".py",
   "mimetype": "text/x-python",
   "name": "python",
   "nbconvert_exporter": "python",
   "pygments_lexer": "ipython3",
   "version": "3.9.7"
  }
 },
 "nbformat": 4,
 "nbformat_minor": 5
}
